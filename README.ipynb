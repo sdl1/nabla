{
 "cells": [
  {
   "cell_type": "markdown",
   "metadata": {},
   "source": [
    "# Nabla\n",
    "\n",
    "Automatic differentiation in python using dual numbers."
   ]
  },
  {
   "cell_type": "code",
   "execution_count": 1,
   "metadata": {},
   "outputs": [
    {
     "name": "stdout",
     "output_type": "stream",
     "text": [
      "75\n",
      "Dual(75,  [30])\n"
     ]
    }
   ],
   "source": [
    "import nabla\n",
    "\n",
    "def f(x):\n",
    "    return 3*x*x\n",
    "\n",
    "print(f(5))\n",
    "\n",
    "print(nabla.grad()(f)(5))"
   ]
  },
  {
   "cell_type": "markdown",
   "metadata": {},
   "source": [
    "## Nabla supports multiple variables"
   ]
  },
  {
   "cell_type": "code",
   "execution_count": 2,
   "metadata": {},
   "outputs": [
    {
     "name": "stdout",
     "output_type": "stream",
     "text": [
      "85\n",
      "Dual(85,  [4, 2, 108])\n"
     ]
    }
   ],
   "source": [
    "def f(x, y, param, z):\n",
    "    return 2*x*y + z**4\n",
    "\n",
    "x, y, z, param = 1, 2, 3, \"this is a non-numeric parameter\"\n",
    "\n",
    "print(f(x, y, param, z))\n",
    "\n",
    "print(nabla.grad()(f)(x, y, param, z))"
   ]
  }
 ],
 "metadata": {
  "kernelspec": {
   "display_name": "Python 3",
   "language": "python",
   "name": "python3"
  },
  "language_info": {
   "codemirror_mode": {
    "name": "ipython",
    "version": 3
   },
   "file_extension": ".py",
   "mimetype": "text/x-python",
   "name": "python",
   "nbconvert_exporter": "python",
   "pygments_lexer": "ipython3",
   "version": "3.5.2"
  }
 },
 "nbformat": 4,
 "nbformat_minor": 2
}
