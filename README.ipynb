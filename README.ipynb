{
 "cells": [
  {
   "cell_type": "markdown",
   "metadata": {},
   "source": [
    "# Nabla\n",
    "\n",
    "Automatic, machine-precision forward differentiation in python using dual numbers."
   ]
  },
  {
   "cell_type": "code",
   "execution_count": 1,
   "metadata": {},
   "outputs": [
    {
     "name": "stdout",
     "output_type": "stream",
     "text": [
      "Dual(75,  [30.])\n"
     ]
    }
   ],
   "source": [
    "from nabla import grad\n",
    "\n",
    "def f(x):\n",
    "    return 3*x*x\n",
    "\n",
    "print(grad(f)(5))"
   ]
  },
  {
   "cell_type": "markdown",
   "metadata": {},
   "source": [
    "Support for multiple variables:"
   ]
  },
  {
   "cell_type": "code",
   "execution_count": 2,
   "metadata": {},
   "outputs": [
    {
     "name": "stdout",
     "output_type": "stream",
     "text": [
      "85\n",
      "Dual(85,  [  4.   2. 108.])\n"
     ]
    }
   ],
   "source": [
    "def f(x, y, param, z):\n",
    "    return 2*x*y + z**4\n",
    "\n",
    "x, y, z, param = 1, 2, 3, \"this is a non-numeric parameter\"\n",
    "\n",
    "print(f(x, y, param, z))\n",
    "# Get the gradient w.r.t. x,y,z\n",
    "# The non-numeric parameter is automatically ignored\n",
    "print(grad(f)(x, y, param, z))"
   ]
  },
  {
   "cell_type": "markdown",
   "metadata": {},
   "source": [
    "Specify variables explicitly by position:"
   ]
  },
  {
   "cell_type": "code",
   "execution_count": 3,
   "metadata": {},
   "outputs": [
    {
     "name": "stdout",
     "output_type": "stream",
     "text": [
      "Dual(85,  [2. 4.])\n"
     ]
    }
   ],
   "source": [
    "# Find gradient w.r.t y,x\n",
    "print(grad([1,0])(f)(x, y, param, z))"
   ]
  },
  {
   "cell_type": "markdown",
   "metadata": {},
   "source": [
    "Use decorators:"
   ]
  },
  {
   "cell_type": "code",
   "execution_count": 4,
   "metadata": {},
   "outputs": [
    {
     "name": "stdout",
     "output_type": "stream",
     "text": [
      "Dual(-0.35017548837401463,  [-0.2248451 -0.7651474])\n"
     ]
    }
   ],
   "source": [
    "from nabla import sin, cos\n",
    "\n",
    "@grad\n",
    "def f(x, y):\n",
    "    return sin(x)*cos(y)\n",
    "\n",
    "print(f(1,2))"
   ]
  },
  {
   "cell_type": "markdown",
   "metadata": {},
   "source": [
    "## Gradient descent without any extra code"
   ]
  },
  {
   "cell_type": "code",
   "execution_count": 5,
   "metadata": {},
   "outputs": [
    {
     "name": "stdout",
     "output_type": "stream",
     "text": [
      "Minimum found at x0 = [-2.57078753 -2.14159265  1.        ]\n",
      "Function, gradient at minimum = -2.9999999999612683, [ 8.80130830e-06  2.20381559e-12 -5.04263298e-13]\n",
      "\n",
      "Minimum found at x0 = [-2.57078753 -2.14159265  0.        ]\n",
      "Function, gradient at minimum = -1.9999999999612683, [8.80130830e-06 2.20381559e-12]\n",
      "\n"
     ]
    }
   ],
   "source": [
    "from nabla import minimise\n",
    "\n",
    "def f(x, y, z):\n",
    "        return sin(x+1) + 2*cos(y-1) + (z-1)**2\n",
    "\n",
    "x0, fval, gradient = minimise(f, [0, 0, 0])\n",
    "print(\"Minimum found at x0 = {}\".format(x0))\n",
    "print(\"Function, gradient at minimum = {}, {}\\n\".format(fval, gradient))\n",
    "\n",
    "# Can also minimise w.r.t. a subset of variables\n",
    "# Here we minimise w.r.t. x and y while holding z=0 fixed\n",
    "x0, fval, gradient = minimise(f, [0, 0, 0], variables=[0,1])\n",
    "print(\"Minimum found at x0 = {}\".format(x0))\n",
    "print(\"Function, gradient at minimum = {}, {}\\n\".format(fval, gradient))"
   ]
  },
  {
   "cell_type": "markdown",
   "metadata": {},
   "source": [
    "## Comparison with finite-difference"
   ]
  },
  {
   "cell_type": "code",
   "execution_count": 6,
   "metadata": {},
   "outputs": [
    {
     "data": {
      "text/plain": [
       "<matplotlib.legend.Legend at 0x7f06c41d7630>"
      ]
     },
     "execution_count": 6,
     "metadata": {},
     "output_type": "execute_result"
    },
    {
     "data": {
      "image/png": "[encoded data removed]",
      "text/plain": [
       "<Figure size 432x288 with 1 Axes>"
      ]
     },
     "metadata": {
      "needs_background": "light"
     },
     "output_type": "display_data"
    }
   ],
   "source": [
    "from nabla import sin, sqrt\n",
    "import numpy as np\n",
    "import matplotlib.pyplot as plt\n",
    "%matplotlib inline\n",
    "\n",
    "def f(x):\n",
    "    return sqrt(3*x + sin(x)**2)/(4*x**3 + 2*x + 1)\n",
    "\n",
    "def analytical_derivative(x):\n",
    "    A = (2*sin(x)*cos(x)+3)/(2*(4*x**3 + 2*x + 1)*sqrt(3*x + sin(x)**2))\n",
    "    B = (12*x**2 + 2)*sqrt(3*x + sin(x)**2) / (4*x**3 + 2*x + 1)**2\n",
    "    return A - B\n",
    "\n",
    "x = 1\n",
    "dfdx_nabla = grad(f)(x).dual\n",
    "dfdx_analytic = analytical_derivative(x)\n",
    "\n",
    "eps = np.logspace(-15, -3)\n",
    "dfdx_fd = np.zeros(eps.shape)\n",
    "for i,e in enumerate(eps):\n",
    "    dfdx_fd[i] = (f(x+e) - f(x))/e\n",
    "\n",
    "err_nabla = np.abs(dfdx_nabla - dfdx_analytic) * np.ones(eps.shape)\n",
    "err_fd = np.abs(dfdx_fd - dfdx_analytic)\n",
    "    \n",
    "# Plot error\n",
    "plt.loglog(eps, err_fd, label='Finite-difference')\n",
    "plt.loglog(eps, err_nabla, label='Nabla (dual numbers)')\n",
    "plt.xlabel('Finite-difference step')\n",
    "plt.ylabel('Error in gradient')\n",
    "plt.legend()"
   ]
  },
  {
   "cell_type": "markdown",
   "metadata": {},
   "source": [
    "Compare time taken:"
   ]
  },
  {
   "cell_type": "code",
   "execution_count": 7,
   "metadata": {},
   "outputs": [
    {
     "name": "stdout",
     "output_type": "stream",
     "text": [
      "121 µs ± 8.45 µs per loop (mean ± std. dev. of 7 runs, 10000 loops each)\n",
      "2.97 µs ± 27 ns per loop (mean ± std. dev. of 7 runs, 10000 loops each)\n"
     ]
    }
   ],
   "source": [
    "%timeit -n10000 grad(f)(x)\n",
    "%timeit -n10000 (f(x+1e-8) - f(x))/1e-8"
   ]
  }
 ],
 "metadata": {
  "kernelspec": {
   "display_name": "Python 3",
   "language": "python",
   "name": "python3"
  },
  "language_info": {
   "codemirror_mode": {
    "name": "ipython",
    "version": 3
   },
   "file_extension": ".py",
   "mimetype": "text/x-python",
   "name": "python",
   "nbconvert_exporter": "python",
   "pygments_lexer": "ipython3",
   "version": "3.5.2"
  }
 },
 "nbformat": 4,
 "nbformat_minor": 2
}
