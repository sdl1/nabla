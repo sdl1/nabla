{
 "cells": [
  {
   "cell_type": "markdown",
   "metadata": {},
   "source": [
    "# Logistic regression on MNIST data\n",
    "\n",
    "Example use of nabla to learn logistic regression classifiers on the MNIST digit dataset."
   ]
  },
  {
   "cell_type": "markdown",
   "metadata": {},
   "source": [
    "## Load and visualise data"
   ]
  },
  {
   "cell_type": "code",
   "execution_count": 274,
   "metadata": {},
   "outputs": [
    {
     "name": "stdout",
     "output_type": "stream",
     "text": [
      "Found data nsamples=60000, nrow=28, ncol=28\n",
      "Found 60000 labels\n",
      "Found data nsamples=10000, nrow=28, ncol=28\n",
      "Found 10000 labels\n"
     ]
    },
    {
     "data": {
      "image/png": "[encoded data removed]",
      "text/plain": [
       "<Figure size 432x288 with 16 Axes>"
      ]
     },
     "metadata": {
      "needs_background": "light"
     },
     "output_type": "display_data"
    }
   ],
   "source": [
    "import matplotlib.pyplot as plt\n",
    "import mnist_data\n",
    "%matplotlib inline\n",
    "%load_ext autoreload\n",
    "%autoreload 2\n",
    "\n",
    "train_images, train_labels, test_images, test_labels, nrow, ncol = mnist_data.get_train_test_data()\n",
    "for i in range(16):\n",
    "    plt.subplot(4,4,i+1)\n",
    "    plt.imshow(train_images[i,:].reshape((nrow,ncol)), cmap=\"Greys\")\n",
    "    plt.title(train_labels[i], color=\"b\")\n",
    "    plt.axis(\"off\")\n",
    "plt.subplots_adjust(hspace=1)\n",
    "plt.show()"
   ]
  },
  {
   "cell_type": "markdown",
   "metadata": {},
   "source": [
    "## Learn one-vs-rest classifiers using logistic regression"
   ]
  },
  {
   "cell_type": "code",
   "execution_count": 267,
   "metadata": {},
   "outputs": [
    {
     "name": "stdout",
     "output_type": "stream",
     "text": [
      "Training classifier 0\n",
      "epoch 0\n",
      "batch 0/1875: fval = 0.6931471805599448, normgradsq = 234494.2177734375\n",
      "batch 1000/1875: fval = 0.0206239183899648, normgradsq = 956.8772410680659\n",
      "batch 1874/1875: fval = 0.007502060030471052, normgradsq = 64.5141883662385\n",
      "epoch 1\n",
      "batch 0/1875: fval = 0.004489117536520032, normgradsq = 44.65045818433048\n",
      "batch 1000/1875: fval = 0.007603431706232828, normgradsq = 88.28109741323337\n",
      "batch 1874/1875: fval = 0.005559501845088486, normgradsq = 29.591571772581162\n",
      "epoch 2\n",
      "batch 0/1875: fval = 0.006296588394877989, normgradsq = 90.14770348911259\n",
      "batch 1000/1875: fval = 0.0039313208126650415, normgradsq = 13.1957733810788\n",
      "batch 1874/1875: fval = 0.007009622677957945, normgradsq = 110.85622351396673\n",
      "epoch 3\n",
      "batch 0/1875: fval = 0.035846757346253935, normgradsq = 1312.3177274819977\n",
      "batch 1000/1875: fval = 0.009582056359319276, normgradsq = 187.57894376852744\n",
      "batch 1874/1875: fval = 0.004001345158720923, normgradsq = 66.06073177360585\n",
      "epoch 4\n",
      "batch 0/1875: fval = 0.0019122922841932396, normgradsq = 8.598410418245704\n",
      "batch 1000/1875: fval = 0.003311305762200315, normgradsq = 11.300087057664282\n",
      "batch 1874/1875: fval = 0.005872167433007961, normgradsq = 32.37971365895076\n",
      "Training classifier 1\n",
      "epoch 0\n",
      "batch 0/1875: fval = 0.6931471805599448, normgradsq = 500870.78271484375\n",
      "batch 1000/1875: fval = 0.016748175356443303, normgradsq = 259.92661905311127\n",
      "batch 1874/1875: fval = 0.03410070263053665, normgradsq = 1276.0049410457127\n",
      "epoch 1\n",
      "batch 0/1875: fval = 0.001495337748175978, normgradsq = 5.794492271591784\n",
      "batch 1000/1875: fval = 0.010610527630220643, normgradsq = 148.80042891347136\n",
      "batch 1874/1875: fval = 0.001951345289642036, normgradsq = 3.6374835294585344\n",
      "epoch 2\n",
      "batch 0/1875: fval = 0.024525388558078065, normgradsq = 707.1805453280364\n",
      "batch 1000/1875: fval = 0.0014649695710240152, normgradsq = 0.8457353320311228\n",
      "batch 1874/1875: fval = 0.0074817054555703245, normgradsq = 157.2472216161595\n",
      "epoch 3\n",
      "batch 0/1875: fval = 0.0037710604242960745, normgradsq = 41.729601170431074\n",
      "batch 1000/1875: fval = 0.06278357540550603, normgradsq = 2506.7663218176913\n",
      "batch 1874/1875: fval = 0.005750934505201529, normgradsq = 55.801194872502585\n",
      "epoch 4\n",
      "batch 0/1875: fval = 0.0021701642578990693, normgradsq = 9.375560528879578\n",
      "batch 1000/1875: fval = 0.0024905052821785506, normgradsq = 8.927934308803367\n",
      "batch 1874/1875: fval = 0.014129320291584405, normgradsq = 487.4866313264757\n",
      "Training classifier 2\n",
      "epoch 0\n",
      "batch 0/1875: fval = 0.6931471805599448, normgradsq = 275724.2353515625\n",
      "batch 1000/1875: fval = 0.011605872343397449, normgradsq = 176.12218877318875\n",
      "batch 1874/1875: fval = 0.16868601657913534, normgradsq = 3771.7621216719026\n",
      "epoch 1\n",
      "batch 0/1875: fval = 0.03230608884725287, normgradsq = 2916.059125326495\n",
      "batch 1000/1875: fval = 0.07809675246408926, normgradsq = 9065.87349415242\n",
      "batch 1874/1875: fval = 0.0272217300682922, normgradsq = 1664.0221716647045\n",
      "epoch 2\n",
      "batch 0/1875: fval = 0.0381147595405382, normgradsq = 3320.4375382072817\n",
      "batch 1000/1875: fval = 0.03783595272729308, normgradsq = 2629.3344331597623\n",
      "batch 1874/1875: fval = 0.017597109688029928, normgradsq = 239.82600826808866\n",
      "epoch 3\n",
      "batch 0/1875: fval = 0.04638901437308438, normgradsq = 1403.8842649230296\n",
      "batch 1000/1875: fval = 0.07167998723045942, normgradsq = 1694.3505459417186\n",
      "batch 1874/1875: fval = 0.03997327956431586, normgradsq = 2369.723322139849\n",
      "epoch 4\n",
      "batch 0/1875: fval = 0.010164782097326222, normgradsq = 172.33187062253057\n",
      "batch 1000/1875: fval = 0.007189043447334915, normgradsq = 57.90138343655344\n",
      "batch 1874/1875: fval = 0.10927742448080051, normgradsq = 9233.960844920552\n",
      "Training classifier 3\n",
      "epoch 0\n",
      "batch 0/1875: fval = 0.6931471805599448, normgradsq = 384176.0498046875\n",
      "batch 1000/1875: fval = 0.13127289169969056, normgradsq = 19220.801356675485\n",
      "batch 1874/1875: fval = 0.04240901714727747, normgradsq = 4268.589921393657\n",
      "epoch 1\n",
      "batch 0/1875: fval = 0.3448420843555507, normgradsq = 7535.9983512108\n",
      "batch 1000/1875: fval = 0.16702576494907176, normgradsq = 5210.80641624242\n",
      "batch 1874/1875: fval = 0.0461611660648351, normgradsq = 3286.9838249699887\n",
      "epoch 2\n",
      "batch 0/1875: fval = 0.08649890847323638, normgradsq = 3839.4088210285668\n",
      "batch 1000/1875: fval = 0.0779458896249521, normgradsq = 1507.523453935806\n",
      "batch 1874/1875: fval = 0.014972135804674203, normgradsq = 263.49033540173144\n",
      "epoch 3\n",
      "batch 0/1875: fval = 0.07320771411625851, normgradsq = 5406.197603466221\n",
      "batch 1000/1875: fval = 0.11749454321767445, normgradsq = 9126.45666257077\n",
      "batch 1874/1875: fval = 0.012210472092257969, normgradsq = 90.74099447411626\n",
      "epoch 4\n",
      "batch 0/1875: fval = 0.019369025496454546, normgradsq = 524.0801666476533\n",
      "batch 1000/1875: fval = 0.02052608429338639, normgradsq = 383.5202554668517\n",
      "batch 1874/1875: fval = 0.09794128466641108, normgradsq = 2730.5838106769593\n",
      "Training classifier 4\n",
      "epoch 0\n",
      "batch 0/1875: fval = 0.6931471805599448, normgradsq = 427072.44091796875\n",
      "batch 1000/1875: fval = 0.17744586044594515, normgradsq = 3544.8463980448655\n",
      "batch 1874/1875: fval = 0.016786031852812803, normgradsq = 310.75841283815316\n",
      "epoch 1\n",
      "batch 0/1875: fval = 0.004464153165940431, normgradsq = 17.551763608270843\n",
      "batch 1000/1875: fval = 0.007849839519133999, normgradsq = 81.4800956393672\n",
      "batch 1874/1875: fval = 0.06635119071359145, normgradsq = 3179.8123463218867\n",
      "epoch 2\n",
      "batch 0/1875: fval = 0.06300133601521386, normgradsq = 4255.334564168826\n",
      "batch 1000/1875: fval = 0.08793813756827107, normgradsq = 2525.361380663896\n",
      "batch 1874/1875: fval = 0.11546355349274842, normgradsq = 4154.520125612323\n",
      "epoch 3\n",
      "batch 0/1875: fval = 0.05695074186274324, normgradsq = 7231.384936511499\n",
      "batch 1000/1875: fval = 0.02044605926327032, normgradsq = 469.3632926256373\n",
      "batch 1874/1875: fval = 0.024323525903058085, normgradsq = 757.2830703144375\n",
      "epoch 4\n",
      "batch 0/1875: fval = 0.08430364843999553, normgradsq = 3651.439824213972\n",
      "batch 1000/1875: fval = 0.02427199929161954, normgradsq = 470.52533892948975\n",
      "batch 1874/1875: fval = 0.022762147819605765, normgradsq = 668.4330507960149\n",
      "Training classifier 5\n",
      "epoch 0\n",
      "batch 0/1875: fval = 0.6931471805599448, normgradsq = 417800.751953125\n",
      "batch 1000/1875: fval = 0.04906870663904147, normgradsq = 3203.4353410662457\n",
      "batch 1874/1875: fval = 0.06055027083608929, normgradsq = 5785.01083668551\n",
      "epoch 1\n",
      "batch 0/1875: fval = 0.06860642386588842, normgradsq = 2050.333877750265\n",
      "batch 1000/1875: fval = 0.032489459339732275, normgradsq = 2166.885380175865\n",
      "batch 1874/1875: fval = 0.07396846559118925, normgradsq = 6466.930176853556\n",
      "epoch 2\n",
      "batch 0/1875: fval = 0.0572556313966167, normgradsq = 2842.420128135314\n",
      "batch 1000/1875: fval = 0.06374847849890779, normgradsq = 3813.0424834173814\n",
      "batch 1874/1875: fval = 0.0247977034798897, normgradsq = 951.7777227158065\n",
      "epoch 3\n",
      "batch 0/1875: fval = 0.025209779653242344, normgradsq = 530.6715783355928\n",
      "batch 1000/1875: fval = 0.15539497201422955, normgradsq = 10687.680107149412\n",
      "batch 1874/1875: fval = 0.04734868157482552, normgradsq = 5712.996642576924\n",
      "epoch 4\n",
      "batch 0/1875: fval = 0.0694900798785867, normgradsq = 1402.449342350014\n",
      "batch 1000/1875: fval = 0.010917956482574416, normgradsq = 70.37762187228732\n",
      "batch 1874/1875: fval = 0.11538682840755927, normgradsq = 3770.149517789796\n",
      "Training classifier 6\n",
      "epoch 0\n",
      "batch 0/1875: fval = 0.6931471805599448, normgradsq = 504005.75048828125\n",
      "batch 1000/1875: fval = 0.002494478039720035, normgradsq = 12.530768881622818\n",
      "batch 1874/1875: fval = 0.011562938288232046, normgradsq = 158.0597320396754\n",
      "epoch 1\n",
      "batch 0/1875: fval = 0.10862953108774544, normgradsq = 7351.380506990965\n",
      "batch 1000/1875: fval = 0.04595528590953744, normgradsq = 3634.768226840502\n",
      "batch 1874/1875: fval = 0.011013175635754798, normgradsq = 205.25398859933728\n",
      "epoch 2\n",
      "batch 0/1875: fval = 0.004031973016540315, normgradsq = 24.204872328433844\n",
      "batch 1000/1875: fval = 0.01607407492972313, normgradsq = 135.31774451703606\n",
      "batch 1874/1875: fval = 0.022003639311266615, normgradsq = 1163.0606088268955\n",
      "epoch 3\n",
      "batch 0/1875: fval = 0.03479246305812994, normgradsq = 725.2821006813942\n",
      "batch 1000/1875: fval = 0.0014538008332095345, normgradsq = 3.3642261247183596\n",
      "batch 1874/1875: fval = 0.051485662759654736, normgradsq = 6292.4669482948375\n",
      "epoch 4\n",
      "batch 0/1875: fval = 0.0005984779437489522, normgradsq = 0.45097908182636115\n"
     ]
    },
    {
     "name": "stdout",
     "output_type": "stream",
     "text": [
      "batch 1000/1875: fval = 0.013056982426456079, normgradsq = 890.6864335516583\n",
      "batch 1874/1875: fval = 0.09914802757734187, normgradsq = 4755.816522919969\n",
      "Training classifier 7\n",
      "epoch 0\n",
      "batch 0/1875: fval = 0.6931471805599448, normgradsq = 345683.2795410156\n",
      "batch 1000/1875: fval = 0.03242105487681801, normgradsq = 836.3400472621963\n",
      "batch 1874/1875: fval = 0.04064951185538719, normgradsq = 3321.522086178011\n",
      "epoch 1\n",
      "batch 0/1875: fval = 0.016301431117264984, normgradsq = 179.01088674389877\n",
      "batch 1000/1875: fval = 0.010324738184109717, normgradsq = 233.23970728390177\n",
      "batch 1874/1875: fval = 0.07591244099830952, normgradsq = 3876.826299395592\n",
      "epoch 2\n",
      "batch 0/1875: fval = 0.03951304960446577, normgradsq = 771.6092210430575\n",
      "batch 1000/1875: fval = 0.04507298345270226, normgradsq = 1413.620043476051\n",
      "batch 1874/1875: fval = 0.04509302347744375, normgradsq = 4883.481697463505\n",
      "epoch 3\n",
      "batch 0/1875: fval = 0.007542110799033598, normgradsq = 62.35653216727371\n",
      "batch 1000/1875: fval = 0.08652936999631801, normgradsq = 3543.991399295013\n",
      "batch 1874/1875: fval = 0.13827075512437037, normgradsq = 4422.980737897087\n",
      "epoch 4\n",
      "batch 0/1875: fval = 0.011609907722275555, normgradsq = 160.28865923012503\n",
      "batch 1000/1875: fval = 0.005312600685236689, normgradsq = 112.01759888334685\n",
      "batch 1874/1875: fval = 0.03574016817779043, normgradsq = 1355.061777759357\n",
      "Training classifier 8\n",
      "epoch 0\n",
      "batch 0/1875: fval = 0.6931471805599448, normgradsq = 244788.97436523438\n",
      "batch 1000/1875: fval = 0.03053229381035302, normgradsq = 826.956205924094\n",
      "batch 1874/1875: fval = 0.14299427651075836, normgradsq = 7130.0459187944025\n",
      "epoch 1\n",
      "batch 0/1875: fval = 0.19987445897525388, normgradsq = 7662.032154344002\n",
      "batch 1000/1875: fval = 0.15986304875074095, normgradsq = 4226.26095407281\n",
      "batch 1874/1875: fval = 0.18802973662607608, normgradsq = 4909.958278022658\n",
      "epoch 2\n",
      "batch 0/1875: fval = 0.29006603136331116, normgradsq = 31762.4576378518\n",
      "batch 1000/1875: fval = 0.24953483964058218, normgradsq = 9866.882631425791\n",
      "batch 1874/1875: fval = 0.11183552477528634, normgradsq = 8536.275459794566\n",
      "epoch 3\n",
      "batch 0/1875: fval = 0.3684546999599203, normgradsq = 42341.724761133155\n",
      "batch 1000/1875: fval = 0.25517326253891, normgradsq = 10632.8548547248\n",
      "batch 1874/1875: fval = 0.2375333834222066, normgradsq = 9487.019649689435\n",
      "epoch 4\n",
      "batch 0/1875: fval = 0.11706413865094775, normgradsq = 8291.412385168676\n",
      "batch 1000/1875: fval = 0.11952169057530913, normgradsq = 8175.276294801627\n",
      "batch 1874/1875: fval = 0.09944188315912089, normgradsq = 5269.657341606748\n",
      "Training classifier 9\n",
      "epoch 0\n",
      "batch 0/1875: fval = 0.6931471805599448, normgradsq = 400989.7587890625\n",
      "batch 1000/1875: fval = 0.1960784492873108, normgradsq = 3262.3919276782954\n",
      "batch 1874/1875: fval = 0.19079514573476547, normgradsq = 15905.071939348027\n",
      "epoch 1\n",
      "batch 0/1875: fval = 0.041843239102636653, normgradsq = 1206.7008129743963\n",
      "batch 1000/1875: fval = 0.052804531885388355, normgradsq = 2431.9027042032462\n",
      "batch 1874/1875: fval = 0.27405925915334045, normgradsq = 9857.192840643926\n",
      "epoch 2\n",
      "batch 0/1875: fval = 0.05688726981090119, normgradsq = 1124.5044143066768\n",
      "batch 1000/1875: fval = 0.021705354663800476, normgradsq = 745.8270973092426\n",
      "batch 1874/1875: fval = 0.23655847452811227, normgradsq = 11712.268443625162\n",
      "epoch 3\n",
      "batch 0/1875: fval = 0.06328930917897, normgradsq = 1467.9535385573718\n",
      "batch 1000/1875: fval = 0.21651762742970626, normgradsq = 4453.19310331671\n",
      "batch 1874/1875: fval = 0.2211220398728049, normgradsq = 2770.8425947351\n",
      "epoch 4\n",
      "batch 0/1875: fval = 0.1469259414049407, normgradsq = 7669.933793811189\n",
      "batch 1000/1875: fval = 0.1782433609713098, normgradsq = 3607.3269266289935\n",
      "batch 1874/1875: fval = 0.07113010295058976, normgradsq = 4114.141473223972\n"
     ]
    }
   ],
   "source": [
    "import numpy as np\n",
    "from nabla import grad\n",
    "\n",
    "def p(X, theta):\n",
    "    return 1/(1 + np.exp(-np.dot(theta,X)))\n",
    "\n",
    "def negloglik(theta, X, Y):\n",
    "    N = X.shape[0]\n",
    "    ret = 0\n",
    "    for i in range(N):\n",
    "        px = p(X[i,:], theta)\n",
    "        ret += Y[i]*np.log(px) + (1-Y[i])*np.log(1-px)\n",
    "    return -ret/N\n",
    "\n",
    "def shuffle(X, Y):\n",
    "    assert X.shape[0]==len(Y)\n",
    "    perm = np.random.permutation(len(Y))\n",
    "    return X[perm,:], Y[perm]\n",
    "\n",
    "def train(Xtrain, Ytrain, theta0, alpha=1e-5, batchsize=32, epochs=5):\n",
    "    # Nesterov accelerated momentum\n",
    "    gamma = 0.9\n",
    "    vt = 0\n",
    "    N = Xtrain.shape[0]\n",
    "    assert N%batchsize==0\n",
    "    Nbatches = N//batchsize\n",
    "    for ep in range(epochs):\n",
    "        print(\"epoch {}\".format(ep))\n",
    "        X, Y = shuffle(Xtrain, Ytrain)\n",
    "        for batch in range(Nbatches):\n",
    "            func = grad(lambda theta : negloglik(theta, X[batch*batchsize:(batch+1)*batchsize,:], Y[batch*batchsize:(batch+1)*batchsize]))\n",
    "            f = func(theta0 - gamma*vt)\n",
    "            vt = gamma*vt + alpha*f.dual\n",
    "            theta0 = theta0 - vt\n",
    "            if batch%1000==0 or batch==Nbatches-1:\n",
    "                print(\"batch {}/{}: fval = {}, normgradsq = {}\".format(batch, Nbatches, f.real, np.dot(f.dual,f.dual)))\n",
    "    return theta0\n",
    "\n",
    "N = train_images.shape[0]\n",
    "Xtrain = train_images[0:N, :]\n",
    "# Bias term\n",
    "Xtrain = np.concatenate((Xtrain, np.ones((Xtrain.shape[0],1))), axis=1)\n",
    "# Train binary classifiers\n",
    "classifiers = dict()\n",
    "for i in range(10):\n",
    "    print(\"Training classifier {}\".format(i))\n",
    "    Ytrain = (train_labels[0:N]==i).astype(float)\n",
    "    theta0 = np.zeros(Xtrain.shape[1])\n",
    "    theta = train(Xtrain, Ytrain, theta0, alpha=1e-6, batchsize=32, epochs=5)\n",
    "    classifiers[i] = theta"
   ]
  },
  {
   "cell_type": "markdown",
   "metadata": {},
   "source": [
    "## Visualise classifier weights:"
   ]
  },
  {
   "cell_type": "code",
   "execution_count": 268,
   "metadata": {},
   "outputs": [
    {
     "data": {
      "image/png": "[encoded data removed]",
      "text/plain": [
       "<Figure size 432x288 with 10 Axes>"
      ]
     },
     "metadata": {
      "needs_background": "light"
     },
     "output_type": "display_data"
    }
   ],
   "source": [
    "for i in range(10):\n",
    "    plt.subplot(3,4,i+1)\n",
    "    plt.imshow(classifiers[i][:-1].reshape((nrow,ncol)), cmap=\"Greys\")\n",
    "    plt.title(str(i), color=\"b\")\n",
    "    plt.axis(\"off\")\n",
    "plt.subplots_adjust(hspace=1)\n",
    "plt.show()"
   ]
  },
  {
   "cell_type": "markdown",
   "metadata": {},
   "source": [
    "## Get train and test accuracy"
   ]
  },
  {
   "cell_type": "code",
   "execution_count": 269,
   "metadata": {},
   "outputs": [
    {
     "name": "stdout",
     "output_type": "stream",
     "text": [
      "train accuracy = 0.91605\n",
      "test accuracy = 0.9154\n"
     ]
    }
   ],
   "source": [
    "def classify_single(X, classifiers):\n",
    "    probs = np.zeros(10)\n",
    "    for i in range(10):\n",
    "        probs[i] = p(X, classifiers[i])\n",
    "    return np.argmax(probs)\n",
    "\n",
    "def predict(X, classifiers):\n",
    "    N = X.shape[0]\n",
    "    Ypred = np.zeros(N)\n",
    "    for i in range(N):\n",
    "        Ypred[i] = classify_single(X[i,:], classifiers)\n",
    "    return Ypred\n",
    "\n",
    "def accuracy(Y, Ypred):\n",
    "    return sum(Y==Ypred)/len(Y)\n",
    "\n",
    "\n",
    "Ypredtrain = predict(Xtrain, classifiers)\n",
    "Ytrain = train_labels[0:N]\n",
    "train_acc = accuracy(Ytrain, Ypredtrain)\n",
    "\n",
    "Xtest = test_images\n",
    "# Bias term\n",
    "Xtest = np.concatenate((Xtest, np.ones((Xtest.shape[0],1))), axis=1)\n",
    "Ytest = test_labels\n",
    "Ypredtest = predict(Xtest, classifiers)\n",
    "test_acc = accuracy(Ytest, Ypredtest)\n",
    "\n",
    "print(\"train accuracy = {}\".format(train_acc))\n",
    "print(\"test accuracy = {}\".format(test_acc))"
   ]
  },
  {
   "cell_type": "markdown",
   "metadata": {},
   "source": [
    "## Plot some random test data with our predictions"
   ]
  },
  {
   "cell_type": "code",
   "execution_count": 271,
   "metadata": {},
   "outputs": [
    {
     "data": {
      "image/png": "[encoded data removed]",
      "text/plain": [
       "<Figure size 432x288 with 25 Axes>"
      ]
     },
     "metadata": {
      "needs_background": "light"
     },
     "output_type": "display_data"
    }
   ],
   "source": [
    "perm = np.random.permutation(test_images.shape[0])\n",
    "for i in range(25):\n",
    "    j = perm[i]\n",
    "    plt.subplot(5,5,i+1)\n",
    "    plt.imshow(test_images[j,:].reshape((nrow,ncol)), cmap=\"Greys\")\n",
    "    if Ypredtest[j]==Ytest[j]:\n",
    "        col = \"g\"\n",
    "    else:\n",
    "        col = \"r\"\n",
    "    plt.title(int(Ypredtest[j]), color=col)\n",
    "    plt.axis(\"off\")\n",
    "plt.subplots_adjust(hspace=1)\n",
    "plt.show()"
   ]
  }
 ],
 "metadata": {
  "kernelspec": {
   "display_name": "Python 3",
   "language": "python",
   "name": "python3"
  },
  "language_info": {
   "codemirror_mode": {
    "name": "ipython",
    "version": 3
   },
   "file_extension": ".py",
   "mimetype": "text/x-python",
   "name": "python",
   "nbconvert_exporter": "python",
   "pygments_lexer": "ipython3",
   "version": "3.5.2"
  }
 },
 "nbformat": 4,
 "nbformat_minor": 2
}
